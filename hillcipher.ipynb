{
  "nbformat": 4,
  "nbformat_minor": 0,
  "metadata": {
    "colab": {
      "name": "hillcipher.ipynb",
      "provenance": [],
      "collapsed_sections": []
    },
    "kernelspec": {
      "name": "python3",
      "display_name": "Python 3"
    },
    "language_info": {
      "name": "python"
    }
  },
  "cells": [
    {
      "cell_type": "code",
      "metadata": {
        "colab": {
          "base_uri": "https://localhost:8080/"
        },
        "id": "F5qMjE-mYOci",
        "outputId": "bbf068dd-6949-4b93-83b1-0b8057df3463"
      },
      "source": [
        "import math as m\n",
        "import numpy as np\n",
        "print(\"Encryption\")\n",
        "text=input(\"Enter the text \")\n",
        "key=input(\"Enter the key \")\n",
        "t=int(m.sqrt(len(key)))\n",
        "temp = [key[idx: idx + t] for idx in range(0, len(key), t)] \n",
        "res = [list(ele) for ele in temp]  \n",
        "inkey = [[0 for x in range(t)] for x in range(t)]\n",
        "inte=[[0] for i in range(t)]\n",
        "for i in range(len(res)):\n",
        "  for j in range(len(res[i])):\n",
        "    inkey[i][j]=ord(res[i][j])%65\n",
        "re=list(text)\n",
        "for j in range(len(re)):\n",
        "  inte[j]=ord(re[j])%65\n",
        "a=np.array(inkey)\n",
        "b=np.array(inte)\n",
        "c=np.dot(a,b)\n",
        "cipher=[]\n",
        "for i in c:\n",
        "  cipher.append(chr(i%26+65))\n",
        "print(\"Cipher Text is\")\n",
        "print(\"\".join(cipher))"
      ],
      "execution_count": 9,
      "outputs": [
        {
          "output_type": "stream",
          "text": [
            "Enter the text ACT\n",
            "Enter the key GYBNQKURP\n",
            "Cipher Text is\n",
            "POH\n"
          ],
          "name": "stdout"
        }
      ]
    },
    {
      "cell_type": "code",
      "metadata": {
        "id": "6tg7AkLIEU2G",
        "colab": {
          "base_uri": "https://localhost:8080/"
        },
        "outputId": "6b66c633-eb4b-4d3b-99a6-57ffd62c9386"
      },
      "source": [
        "import math as m\n",
        "import numpy as np\n",
        "from sympy import Matrix\n",
        "print(\"Decryption\")\n",
        "key=input(\"Enter the key \")\n",
        "text=input(\"Enter the text \")\n",
        "t=int(m.sqrt(len(key)))\n",
        "temp = [key[idx: idx + t] for idx in range(0, len(key), t)] \n",
        "res = [list(ele) for ele in temp]  \n",
        "inkey = [[0 for x in range(t)] for x in range(t)]\n",
        "inte=[[0] for i in range(t)]\n",
        "for i in range(len(res)):\n",
        "  for j in range(len(res[i])):\n",
        "    inkey[i][j]=ord(res[i][j])%65\n",
        "print(Matrix(inkey))\n",
        "A=Matrix(inkey).inv_mod(26)\n",
        "re=list(text)\n",
        "for j in range(len(re)):\n",
        "  inte[j]=ord(re[j])%65\n",
        "B=np.array(inte)\n",
        "C=np.dot(A,B)\n",
        "plain=[]\n",
        "for i in C:\n",
        "  plain.append(chr(i%26+65))\n",
        "print(\"Plain Text is\")\n",
        "print(\"\".join(plain))"
      ],
      "execution_count": 12,
      "outputs": [
        {
          "output_type": "stream",
          "text": [
            "Decryption\n",
            "Enter the key GYBNQKURP\n",
            "Enter the text POH\n",
            "Matrix([[6, 24, 1], [13, 16, 10], [20, 17, 15]])\n",
            "Plain Text is\n",
            "ACT\n"
          ],
          "name": "stdout"
        }
      ]
    }
  ]
}